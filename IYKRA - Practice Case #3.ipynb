{
 "cells": [
  {
   "cell_type": "markdown",
   "metadata": {},
   "source": [
    "# Python Task"
   ]
  },
  {
   "cell_type": "markdown",
   "metadata": {},
   "source": [
    "Make a python function that introduce your name, address, date of birth, and print them out into one sentence!"
   ]
  },
  {
   "cell_type": "code",
   "execution_count": 15,
   "metadata": {},
   "outputs": [
    {
     "name": "stdout",
     "output_type": "stream",
     "text": [
      "Name: Riyo\n",
      "Address: Jakarta\n",
      "Date of Birth: 5 Oktober\n",
      "My name is Riyo, I live in Jakarta, I was born on 5 Oktober\n"
     ]
    }
   ],
   "source": [
    "# Function to introduce your name, address, and date of birth in 1 sentence\n",
    "\n",
    "def introduction(name, address, dob):\n",
    "    name = input(str('Name: '))\n",
    "    address = input(str('Address: '))\n",
    "    dob = input(str('Date of Birth: '))\n",
    "    print('My name is ' + name + ', I live in ' + address + ', I was born on ' + dob)\n",
    "\n",
    "introduction(name, address, dob)"
   ]
  }
 ],
 "metadata": {
  "kernelspec": {
   "display_name": "Python 3",
   "language": "python",
   "name": "python3"
  },
  "language_info": {
   "codemirror_mode": {
    "name": "ipython",
    "version": 3
   },
   "file_extension": ".py",
   "mimetype": "text/x-python",
   "name": "python",
   "nbconvert_exporter": "python",
   "pygments_lexer": "ipython3",
   "version": "3.7.6"
  }
 },
 "nbformat": 4,
 "nbformat_minor": 4
}
